{
 "cells": [
  {
   "cell_type": "markdown",
   "metadata": {},
   "source": [
    "# Backpropagation and Multilayer Neural Networks\n",
    "\n",
    "### Goals: \n",
    "- Intro: train a neural network with high level framework `Keras`\n",
    "\n",
    "### Dataset:\n",
    "- Digits: 10 class handwritten digits\n",
    "- http://scikit-learn.org/stable/modules/generated/sklearn.datasets.load_digits.html#sklearn.datasets.load_digits"
   ]
  },
  {
   "cell_type": "code",
   "execution_count": 1,
   "metadata": {},
   "outputs": [],
   "source": [
    "%matplotlib inline \n",
    "# display figures in the notebook\n",
    "import matplotlib.pyplot as plt\n",
    "import numpy as np\n",
    "from sklearn.datasets import load_digits\n",
    "\n",
    "digits = load_digits()"
   ]
  },
  {
   "cell_type": "code",
   "execution_count": 3,
   "metadata": {},
   "outputs": [
    {
     "data": {
      "image/png": "[encoded data removed]",
      "text/plain": [
       "<matplotlib.figure.Figure at 0x119143668>"
      ]
     },
     "metadata": {},
     "output_type": "display_data"
    }
   ],
   "source": [
    "sample_index = 44\n",
    "plt.figure(figsize=(3, 3))\n",
    "plt.imshow(digits.images[sample_index], cmap=plt.cm.gray_r,\n",
    "           interpolation='nearest')\n",
    "plt.title(\"image label: %d\" % digits.target[sample_index]);"
   ]
  },
  {
   "cell_type": "markdown",
   "metadata": {},
   "source": [
    "### Preprocessing\n",
    "\n",
    "- normalization\n",
    "- train/test split"
   ]
  },
  {
   "cell_type": "code",
   "execution_count": 6,
   "metadata": {},
   "outputs": [
    {
     "name": "stdout",
     "output_type": "stream",
     "text": [
      "[0.0000000e+00 2.9862475e-01 5.1925344e+00 1.1842829e+01 1.1856582e+01\n",
      " 5.8100853e+00 1.3477407e+00 1.1918795e-01 6.5487884e-03 1.9934512e+00\n",
      " 1.0346431e+01 1.1930583e+01 1.0262607e+01 8.2049770e+00 1.8434839e+00\n",
      " 9.8886706e-02 3.2743942e-03 2.6162410e+00 9.8349705e+00 6.8709888e+00\n",
      " 7.1126390e+00 7.8375902e+00 1.7537656e+00 4.4531763e-02 1.3097577e-03\n",
      " 2.4878848e+00 9.0445318e+00 8.7328091e+00 9.9823179e+00 7.5710545e+00\n",
      " 2.2685003e+00 2.6195154e-03 0.0000000e+00 2.3614931e+00 7.6836934e+00\n",
      " 9.0792408e+00 1.0371316e+01 8.7924032e+00 2.8998036e+00 0.0000000e+00\n",
      " 8.5134255e-03 1.5703995e+00 6.8493776e+00 7.2285528e+00 7.6502948e+00\n",
      " 8.2652264e+00 3.4859202e+00 2.6195154e-02 8.5134255e-03 6.8369353e-01\n",
      " 7.4931240e+00 9.5651608e+00 9.3686972e+00 8.7766867e+00 3.7668631e+00\n",
      " 2.0890635e-01 6.5487885e-04 2.7897838e-01 5.5370007e+00 1.2059594e+01\n",
      " 1.1783236e+01 6.8199081e+00 2.0746562e+00 3.4250164e-01]\n",
      "[1.         0.91047853 4.737475   4.259608   4.3074083  5.682445\n",
      " 3.2971535  1.0088968  0.10215284 3.2197208  5.410791   3.9943264\n",
      " 4.763272   6.0576067  3.5449781  0.78794795 0.06762655 3.5953584\n",
      " 5.7559114  5.7949924  6.1700764  6.203925   3.1713367  0.4243509\n",
      " 0.03616688 3.1758604  6.227161   5.8784328  6.1276746  5.886606\n",
      " 3.6396353  0.05111425 1.         3.5114381  6.3518367  6.2620006\n",
      " 5.923798   5.862816   3.5431352  1.         0.13754639 2.9667552\n",
      " 6.5228195  6.4634943  6.2735844  5.6645765  4.3256125  0.31021976\n",
      " 0.22145751 1.7102222  5.6299205  5.2322054  5.31296    6.0307407\n",
      " 4.9404445  0.9965206  0.02558208 0.9406645  5.0750594  4.379795\n",
      " 4.9665     5.9209824  4.0502324  1.7806677 ]\n"
     ]
    }
   ],
   "source": [
    "from sklearn import preprocessing\n",
    "from sklearn.model_selection import train_test_split\n",
    "\n",
    "data = np.asarray(digits.data, dtype='float32')\n",
    "target = np.asarray(digits.target, dtype='int32')\n",
    "\n",
    "X_train, X_test, y_train, y_test = train_test_split(\n",
    "    data, target, test_size=0.15, random_state=37)\n",
    "\n",
    "# mean = 0 ; standard deviation = 1.0\n",
    "scaler = preprocessing.StandardScaler()\n",
    "X_train = scaler.fit_transform(X_train)\n",
    "X_test = scaler.transform(X_test)\n",
    "\n",
    "print(scaler.mean_)\n",
    "print(scaler.scale_)"
   ]
  },
  {
   "cell_type": "markdown",
   "metadata": {},
   "source": [
    "Let's display the one of the transformed sample (after feature standardization):"
   ]
  },
  {
   "cell_type": "code",
   "execution_count": 8,
   "metadata": {},
   "outputs": [
    {
     "data": {
      "image/png": "[encoded data removed]",
      "text/plain": [
       "<matplotlib.figure.Figure at 0x11921e4a8>"
      ]
     },
     "metadata": {},
     "output_type": "display_data"
    }
   ],
   "source": [
    "sample_index = 45\n",
    "plt.figure(figsize=(3, 3))\n",
    "plt.imshow(X_train[sample_index].reshape(8, 8),\n",
    "           cmap=plt.cm.gray_r, interpolation='nearest')\n",
    "plt.title(\"transformed sample\\n(standardization)\");"
   ]
  },
  {
   "cell_type": "markdown",
   "metadata": {},
   "source": [
    "The scaler objects makes it possible to recover the original sample:"
   ]
  },
  {
   "cell_type": "code",
   "execution_count": 9,
   "metadata": {},
   "outputs": [
    {
     "data": {
      "image/png": "[encoded data removed]",
      "text/plain": [
       "<matplotlib.figure.Figure at 0x11927c908>"
      ]
     },
     "metadata": {},
     "output_type": "display_data"
    }
   ],
   "source": [
    "plt.figure(figsize=(3, 3))\n",
    "plt.imshow(scaler.inverse_transform(X_train[sample_index]).reshape(8, 8),\n",
    "           cmap=plt.cm.gray_r, interpolation='nearest')\n",
    "plt.title(\"original sample\");"
   ]
  },
  {
   "cell_type": "code",
   "execution_count": 10,
   "metadata": {},
   "outputs": [
    {
     "name": "stdout",
     "output_type": "stream",
     "text": [
      "(1527, 64) (1527,)\n",
      "(270, 64) (270,)\n"
     ]
    }
   ],
   "source": [
    "print(X_train.shape, y_train.shape)\n",
    "print(X_test.shape, y_test.shape)"
   ]
  },
  {
   "cell_type": "code",
   "execution_count": null,
   "metadata": {},
   "outputs": [],
   "source": []
  },
  {
   "cell_type": "markdown",
   "metadata": {},
   "source": [
    "# I) Feed Forward NN with Keras\n",
    "\n",
    "Objectives of this section:\n",
    "\n",
    "- Build and train a first feedforward network using `Keras`\n",
    "    - https://keras.io/getting-started/sequential-model-guide/\n",
    "- Experiment with different optimizers, activations, size of layers, initializations\n",
    "\n",
    "### a) Keras Workflow"
   ]
  },
  {
   "cell_type": "markdown",
   "metadata": {},
   "source": [
    "To build a first neural network we need to turn the target variable into a vector \"one-hot-encoding\" representation. Here are the labels of the first samples in the training set encoded as integers:"
   ]
  },
  {
   "cell_type": "code",
   "execution_count": 11,
   "metadata": {},
   "outputs": [
    {
     "data": {
      "text/plain": [
       "array([2, 9, 5], dtype=int32)"
      ]
     },
     "execution_count": 11,
     "metadata": {},
     "output_type": "execute_result"
    }
   ],
   "source": [
    "y_train[:3]"
   ]
  },
  {
   "cell_type": "markdown",
   "metadata": {},
   "source": [
    "Keras provides a utility function to convert integer-encoded categorical variables as one-hot encoded values:"
   ]
  },
  {
   "cell_type": "code",
   "execution_count": 12,
   "metadata": {},
   "outputs": [
    {
     "name": "stderr",
     "output_type": "stream",
     "text": [
      "/Users/imadelhanafi/anaconda/envs/ML/lib/python3.6/importlib/_bootstrap.py:219: RuntimeWarning: compiletime version 3.5 of module 'tensorflow.python.framework.fast_tensor_util' does not match runtime version 3.6\n",
      "  return f(*args, **kwds)\n",
      "/Users/imadelhanafi/anaconda/envs/ML/lib/python3.6/site-packages/h5py/__init__.py:36: FutureWarning: Conversion of the second argument of issubdtype from `float` to `np.floating` is deprecated. In future, it will be treated as `np.float64 == np.dtype(float).type`.\n",
      "  from ._conv import register_converters as _register_converters\n",
      "Using TensorFlow backend.\n"
     ]
    },
    {
     "data": {
      "text/plain": [
       "array([[0., 0., 1., 0., 0., 0., 0., 0., 0., 0.],\n",
       "       [0., 0., 0., 0., 0., 0., 0., 0., 0., 1.],\n",
       "       [0., 0., 0., 0., 0., 1., 0., 0., 0., 0.]])"
      ]
     },
     "execution_count": 12,
     "metadata": {},
     "output_type": "execute_result"
    }
   ],
   "source": [
    "from tensorflow.contrib import keras\n",
    "from keras.utils.np_utils import to_categorical\n",
    "\n",
    "Y_train = to_categorical(y_train)\n",
    "Y_train[:3]"
   ]
  },
  {
   "cell_type": "code",
   "execution_count": 23,
   "metadata": {},
   "outputs": [
    {
     "data": {
      "text/plain": [
       "(1527, 64)"
      ]
     },
     "execution_count": 23,
     "metadata": {},
     "output_type": "execute_result"
    }
   ],
   "source": [
    "X_train.shape"
   ]
  },
  {
   "cell_type": "markdown",
   "metadata": {},
   "source": [
    "We can now build an train a our first feed forward neural network using the high level API from keras:\n",
    "\n",
    "- first we define the model by stacking layers with the right dimensions\n",
    "- then we define a loss function and plug the SGD optimizer\n",
    "- then we feed the model the training data for fixed number of epochs"
   ]
  },
  {
   "cell_type": "code",
   "execution_count": 70,
   "metadata": {},
   "outputs": [
    {
     "name": "stdout",
     "output_type": "stream",
     "text": [
      "Epoch 1/20\n",
      "1527/1527 [==============================] - 0s 324us/step - loss: 0.3280 - acc: 0.8939\n",
      "Epoch 2/20\n",
      "1527/1527 [==============================] - 0s 64us/step - loss: 0.0914 - acc: 0.9718\n",
      "Epoch 3/20\n",
      "1527/1527 [==============================] - 0s 62us/step - loss: 0.0416 - acc: 0.9921\n",
      "Epoch 4/20\n",
      "1527/1527 [==============================] - 0s 63us/step - loss: 0.0217 - acc: 0.9980\n",
      "Epoch 5/20\n",
      "1527/1527 [==============================] - 0s 74us/step - loss: 0.0142 - acc: 0.9980\n",
      "Epoch 6/20\n",
      "1527/1527 [==============================] - 0s 72us/step - loss: 0.0089 - acc: 1.0000\n",
      "Epoch 7/20\n",
      "1527/1527 [==============================] - 0s 76us/step - loss: 0.0070 - acc: 1.0000\n",
      "Epoch 8/20\n",
      "1527/1527 [==============================] - 0s 71us/step - loss: 0.0055 - acc: 1.0000\n",
      "Epoch 9/20\n",
      "1527/1527 [==============================] - 0s 66us/step - loss: 0.0046 - acc: 1.0000\n",
      "Epoch 10/20\n",
      "1527/1527 [==============================] - 0s 67us/step - loss: 0.0040 - acc: 1.0000\n",
      "Epoch 11/20\n",
      "1527/1527 [==============================] - 0s 62us/step - loss: 0.0035 - acc: 1.0000\n",
      "Epoch 12/20\n",
      "1527/1527 [==============================] - 0s 66us/step - loss: 0.0032 - acc: 1.0000\n",
      "Epoch 13/20\n",
      "1527/1527 [==============================] - 0s 78us/step - loss: 0.0029 - acc: 1.0000\n",
      "Epoch 14/20\n",
      "1527/1527 [==============================] - 0s 71us/step - loss: 0.0026 - acc: 1.0000\n",
      "Epoch 15/20\n",
      "1527/1527 [==============================] - 0s 73us/step - loss: 0.0024 - acc: 1.0000\n",
      "Epoch 16/20\n",
      "1527/1527 [==============================] - 0s 75us/step - loss: 0.0023 - acc: 1.0000\n",
      "Epoch 17/20\n",
      "1527/1527 [==============================] - 0s 67us/step - loss: 0.0021 - acc: 1.0000\n",
      "Epoch 18/20\n",
      "1527/1527 [==============================] - 0s 65us/step - loss: 0.0020 - acc: 1.0000\n",
      "Epoch 19/20\n",
      "1527/1527 [==============================] - 0s 75us/step - loss: 0.0018 - acc: 1.0000\n",
      "Epoch 20/20\n",
      "1527/1527 [==============================] - 0s 71us/step - loss: 0.0017 - acc: 1.0000\n"
     ]
    }
   ],
   "source": [
    "from keras.models import Sequential\n",
    "from keras.layers.core import Dense, Activation\n",
    "from keras import optimizers\n",
    "\n",
    "N = X_train.shape[1]\n",
    "H = 100\n",
    "K = 10\n",
    "\n",
    "model = Sequential()\n",
    "model.add(Dense(H, input_dim=N))\n",
    "model.add(Activation(\"tanh\"))\n",
    "model.add(Dense(K))\n",
    "model.add(Activation(\"softmax\"))\n",
    "\n",
    "model.compile(optimizer=optimizers.SGD(lr=1),\n",
    "              loss='categorical_crossentropy', metrics=['accuracy'])\n",
    "\n",
    "model.fit(X_train, Y_train, epochs=20, batch_size=32);\n",
    "# Batch ---> Augmente : saturation de mémoire \n"
   ]
  },
  {
   "cell_type": "markdown",
   "metadata": {},
   "source": [
    "### b) Exercises: Impact of the Optimizer\n",
    "\n",
    "- Try to decrease the learning rate value by 10 or 100. What do you observe?\n",
    "\n",
    "- Try to increase the learning rate value to make the optimization diverge.\n",
    "\n",
    "- Configure the SGD optimizer to enable a Nesterov momentum of 0.9\n",
    "  \n",
    "Note that the keras API documentation is avaiable at:\n",
    "\n",
    "https://keras.io/\n",
    "\n",
    "It is also possible to learn more about the parameters of a class by using the question mark: type and evaluate:\n",
    "\n",
    "```python\n",
    "optimizers.SGD?\n",
    "```\n",
    "\n",
    "in a jupyter notebook cell."
   ]
  },
  {
   "cell_type": "code",
   "execution_count": 14,
   "metadata": {},
   "outputs": [
    {
     "data": {
      "text/plain": [
       "\u001b[0;31mInit signature:\u001b[0m \u001b[0moptimizers\u001b[0m\u001b[0;34m.\u001b[0m\u001b[0mSGD\u001b[0m\u001b[0;34m(\u001b[0m\u001b[0mlr\u001b[0m\u001b[0;34m=\u001b[0m\u001b[0;36m0.01\u001b[0m\u001b[0;34m,\u001b[0m \u001b[0mmomentum\u001b[0m\u001b[0;34m=\u001b[0m\u001b[0;36m0.0\u001b[0m\u001b[0;34m,\u001b[0m \u001b[0mdecay\u001b[0m\u001b[0;34m=\u001b[0m\u001b[0;36m0.0\u001b[0m\u001b[0;34m,\u001b[0m \u001b[0mnesterov\u001b[0m\u001b[0;34m=\u001b[0m\u001b[0;32mFalse\u001b[0m\u001b[0;34m,\u001b[0m \u001b[0;34m**\u001b[0m\u001b[0mkwargs\u001b[0m\u001b[0;34m)\u001b[0m\u001b[0;34m\u001b[0m\u001b[0m\n",
       "\u001b[0;31mDocstring:\u001b[0m     \n",
       "Stochastic gradient descent optimizer.\n",
       "\n",
       "Includes support for momentum,\n",
       "learning rate decay, and Nesterov momentum.\n",
       "\n",
       "# Arguments\n",
       "    lr: float >= 0. Learning rate.\n",
       "    momentum: float >= 0. Parameter updates momentum.\n",
       "    decay: float >= 0. Learning rate decay over each update.\n",
       "    nesterov: boolean. Whether to apply Nesterov momentum.\n",
       "\u001b[0;31mFile:\u001b[0m           ~/anaconda/envs/ML/lib/python3.6/site-packages/keras/optimizers.py\n",
       "\u001b[0;31mType:\u001b[0m           type\n"
      ]
     },
     "metadata": {},
     "output_type": "display_data"
    }
   ],
   "source": [
    "optimizers.SGD?"
   ]
  },
  {
   "cell_type": "markdown",
   "metadata": {},
   "source": [
    "- Replace the SGD optimizer by the Adam optimizer from keras and run it\n",
    "  with the default parameters.\n",
    "\n",
    "- Add another hidden layer and use the \"Rectified Linear Unit\" for each\n",
    "  hidden layer. Can you still train the model with Adam with its default global\n",
    "  learning rate?\n",
    "\n",
    "- Bonus: try the Adadelta optimizer (no learning rate to set).\n",
    "\n",
    "Hint: use `optimizers.<TAB>` to tab-complete the list of implemented optimizers in Keras."
   ]
  },
  {
   "cell_type": "code",
   "execution_count": 16,
   "metadata": {},
   "outputs": [
    {
     "data": {
      "text/plain": [
       "\u001b[0;31mInit signature:\u001b[0m \u001b[0moptimizers\u001b[0m\u001b[0;34m.\u001b[0m\u001b[0mAdam\u001b[0m\u001b[0;34m(\u001b[0m\u001b[0mlr\u001b[0m\u001b[0;34m=\u001b[0m\u001b[0;36m0.001\u001b[0m\u001b[0;34m,\u001b[0m \u001b[0mbeta_1\u001b[0m\u001b[0;34m=\u001b[0m\u001b[0;36m0.9\u001b[0m\u001b[0;34m,\u001b[0m \u001b[0mbeta_2\u001b[0m\u001b[0;34m=\u001b[0m\u001b[0;36m0.999\u001b[0m\u001b[0;34m,\u001b[0m \u001b[0mepsilon\u001b[0m\u001b[0;34m=\u001b[0m\u001b[0;36m1e-08\u001b[0m\u001b[0;34m,\u001b[0m \u001b[0mdecay\u001b[0m\u001b[0;34m=\u001b[0m\u001b[0;36m0.0\u001b[0m\u001b[0;34m,\u001b[0m \u001b[0;34m**\u001b[0m\u001b[0mkwargs\u001b[0m\u001b[0;34m)\u001b[0m\u001b[0;34m\u001b[0m\u001b[0m\n",
       "\u001b[0;31mDocstring:\u001b[0m     \n",
       "Adam optimizer.\n",
       "\n",
       "Default parameters follow those provided in the original paper.\n",
       "\n",
       "# Arguments\n",
       "    lr: float >= 0. Learning rate.\n",
       "    beta_1: float, 0 < beta < 1. Generally close to 1.\n",
       "    beta_2: float, 0 < beta < 1. Generally close to 1.\n",
       "    epsilon: float >= 0. Fuzz factor.\n",
       "    decay: float >= 0. Learning rate decay over each update.\n",
       "\n",
       "# References\n",
       "    - [Adam - A Method for Stochastic Optimization](http://arxiv.org/abs/1412.6980v8)\n",
       "\u001b[0;31mFile:\u001b[0m           ~/anaconda/envs/ML/lib/python3.6/site-packages/keras/optimizers.py\n",
       "\u001b[0;31mType:\u001b[0m           type\n"
      ]
     },
     "metadata": {},
     "output_type": "display_data"
    }
   ],
   "source": [
    "optimizers.Adam?"
   ]
  },
  {
   "cell_type": "code",
   "execution_count": 96,
   "metadata": {},
   "outputs": [
    {
     "name": "stdout",
     "output_type": "stream",
     "text": [
      "Epoch 1/20\n",
      "1527/1527 [==============================] - 1s 660us/step - loss: 1.0284 - acc: 0.7511\n",
      "Epoch 2/20\n",
      "1527/1527 [==============================] - 0s 118us/step - loss: 0.2448 - acc: 0.9561\n",
      "Epoch 3/20\n",
      "1527/1527 [==============================] - 0s 130us/step - loss: 0.1283 - acc: 0.9751\n",
      "Epoch 4/20\n",
      "1527/1527 [==============================] - 0s 120us/step - loss: 0.0798 - acc: 0.9862\n",
      "Epoch 5/20\n",
      "1527/1527 [==============================] - 0s 115us/step - loss: 0.0535 - acc: 0.9915\n",
      "Epoch 6/20\n",
      "1527/1527 [==============================] - 0s 121us/step - loss: 0.0375 - acc: 0.9961\n",
      "Epoch 7/20\n",
      "1527/1527 [==============================] - 0s 124us/step - loss: 0.0265 - acc: 0.9987\n",
      "Epoch 8/20\n",
      "1527/1527 [==============================] - 0s 127us/step - loss: 0.0197 - acc: 0.9987\n",
      "Epoch 9/20\n",
      "1527/1527 [==============================] - 0s 129us/step - loss: 0.0148 - acc: 1.0000\n",
      "Epoch 10/20\n",
      "1527/1527 [==============================] - 0s 128us/step - loss: 0.0116 - acc: 1.0000\n",
      "Epoch 11/20\n",
      "1527/1527 [==============================] - 0s 129us/step - loss: 0.0095 - acc: 1.0000\n",
      "Epoch 12/20\n",
      "1527/1527 [==============================] - 0s 129us/step - loss: 0.0076 - acc: 1.0000\n",
      "Epoch 13/20\n",
      "1527/1527 [==============================] - 0s 132us/step - loss: 0.0064 - acc: 1.0000\n",
      "Epoch 14/20\n",
      "1527/1527 [==============================] - 0s 126us/step - loss: 0.0054 - acc: 1.0000\n",
      "Epoch 15/20\n",
      "1527/1527 [==============================] - 0s 130us/step - loss: 0.0046 - acc: 1.0000\n",
      "Epoch 16/20\n",
      "1527/1527 [==============================] - 0s 129us/step - loss: 0.0039 - acc: 1.0000\n",
      "Epoch 17/20\n",
      "1527/1527 [==============================] - 0s 126us/step - loss: 0.0034 - acc: 1.0000\n",
      "Epoch 18/20\n",
      "1527/1527 [==============================] - 0s 131us/step - loss: 0.0030 - acc: 1.0000\n",
      "Epoch 19/20\n",
      "1527/1527 [==============================] - 0s 127us/step - loss: 0.0026 - acc: 1.0000\n",
      "Epoch 20/20\n",
      "1527/1527 [==============================] - 0s 155us/step - loss: 0.0023 - acc: 1.0000\n"
     ]
    }
   ],
   "source": [
    "# Using the Adam optimizer\n",
    "\n",
    "model1 = Sequential()\n",
    "model1.add(Dense(H, input_dim=N))\n",
    "model1.add(Activation(\"tanh\"))\n",
    "\n",
    "model1.add(Dense(H))\n",
    "model1.add(Activation(\"relu\"))\n",
    "\n",
    "model1.add(Dense(K))\n",
    "model1.add(Activation(\"softmax\"))\n",
    "\n",
    "model1.compile(optimizer=optimizers.Adam(),\n",
    "              loss='categorical_crossentropy', metrics=['accuracy'])\n",
    "\n",
    "model1.fit(X_train, Y_train, epochs=20, batch_size=20);"
   ]
  },
  {
   "cell_type": "code",
   "execution_count": 89,
   "metadata": {},
   "outputs": [
    {
     "name": "stdout",
     "output_type": "stream",
     "text": [
      "Epoch 1/15\n",
      "1527/1527 [==============================] - 1s 519us/step - loss: 1.6326 - acc: 0.5639\n",
      "Epoch 2/15\n",
      "1527/1527 [==============================] - 0s 81us/step - loss: 0.8271 - acc: 0.8612\n",
      "Epoch 3/15\n",
      "1527/1527 [==============================] - 0s 75us/step - loss: 0.5071 - acc: 0.9103\n",
      "Epoch 4/15\n",
      "1527/1527 [==============================] - 0s 77us/step - loss: 0.3524 - acc: 0.9417\n",
      "Epoch 5/15\n",
      "1527/1527 [==============================] - 0s 77us/step - loss: 0.2660 - acc: 0.9561\n",
      "Epoch 6/15\n",
      "1527/1527 [==============================] - 0s 77us/step - loss: 0.2095 - acc: 0.9666\n",
      "Epoch 7/15\n",
      "1527/1527 [==============================] - 0s 78us/step - loss: 0.1717 - acc: 0.9725\n",
      "Epoch 8/15\n",
      "1527/1527 [==============================] - 0s 81us/step - loss: 0.1436 - acc: 0.9751\n",
      "Epoch 9/15\n",
      "1527/1527 [==============================] - 0s 78us/step - loss: 0.1221 - acc: 0.9797\n",
      "Epoch 10/15\n",
      "1527/1527 [==============================] - 0s 79us/step - loss: 0.1054 - acc: 0.9836\n",
      "Epoch 11/15\n",
      "1527/1527 [==============================] - 0s 79us/step - loss: 0.0920 - acc: 0.9862\n",
      "Epoch 12/15\n",
      "1527/1527 [==============================] - 0s 79us/step - loss: 0.0805 - acc: 0.9882\n",
      "Epoch 13/15\n",
      "1527/1527 [==============================] - 0s 77us/step - loss: 0.0712 - acc: 0.9882\n",
      "Epoch 14/15\n",
      "1527/1527 [==============================] - 0s 84us/step - loss: 0.0628 - acc: 0.9895\n",
      "Epoch 15/15\n",
      "1527/1527 [==============================] - 0s 95us/step - loss: 0.0560 - acc: 0.9895\n"
     ]
    }
   ],
   "source": [
    "# Using the Adadelta optimizer\n",
    "# Adaptative Learning Rate\n",
    "\n",
    "model1 = Sequential()\n",
    "model1.add(Dense(H, input_dim=N))\n",
    "model1.add(Activation(\"tanh\"))\n",
    "model1.add(Dense(H))\n",
    "model1.add(Activation(\"relu\"))\n",
    "model1.add(Dense(K))\n",
    "model1.add(Activation(\"softmax\"))\n",
    "\n",
    "model1.compile(optimizer=optimizers.Adadelta(),\n",
    "              loss='categorical_crossentropy', metrics=['accuracy'])\n",
    "\n",
    "model1.fit(X_train, Y_train, epochs=15, batch_size=32);"
   ]
  },
  {
   "cell_type": "markdown",
   "metadata": {},
   "source": [
    "### c) Exercises: forward pass and generalization\n",
    "\n",
    "- Compute predictions on test set using `model.predict_classes(...)`\n",
    "- Compute average accuracy of the model on the test set"
   ]
  },
  {
   "cell_type": "code",
   "execution_count": 100,
   "metadata": {
    "collapsed": true
   },
   "outputs": [
    {
     "name": "stdout",
     "output_type": "stream",
     "text": [
      "Accuracy :  0.9814814814814815\n"
     ]
    }
   ],
   "source": [
    "Predictions = model1.predict_classes(X_test)\n",
    "True_False = [Predictions[i] == y_test[i] for i in range(len(Predictions))]\n",
    "\n",
    "acc = (len(y_test) - sum(True_False))/(len(y_test))\n",
    "print(\"Accuracy : \", 1-acc)\n"
   ]
  },
  {
   "cell_type": "code",
   "execution_count": 103,
   "metadata": {},
   "outputs": [
    {
     "data": {
      "text/plain": [
       "0.9814814814814815"
      ]
     },
     "execution_count": 103,
     "metadata": {},
     "output_type": "execute_result"
    }
   ],
   "source": [
    "np.mean(True_False)"
   ]
  },
  {
   "cell_type": "code",
   "execution_count": 3,
   "metadata": {},
   "outputs": [],
   "source": [
    "y_predicted = model.predict_classes(X_test, verbose=0)\n",
    "\n",
    "# Let's display the first inputs image, the predicted labels and the true labels\n",
    "plt.figure(figsize=(12, 9))\n",
    "for i in range(15):\n",
    "    plt.subplot(3, 5, i + 1)\n",
    "    plt.imshow(scaler.inverse_transform(X_test[i]).reshape(8, 8),\n",
    "               cmap=plt.cm.gray_r, interpolation='nearest')\n",
    "    plt.title(\"predicted label: %d\\n true label: %d\"\n",
    "              % (y_predicted[i], y_test[i]))\n",
    "    \n",
    "print(\"test acc: %0.4f\" % np.mean(y_predicted == y_test))"
   ]
  },
  {
   "cell_type": "markdown",
   "metadata": {},
   "source": [
    "- Compute the conditional probabilities of sample number 42 of the test set with `model.predict_proba(...)`\n",
    "- Derive the loss (negative log likelihood of that sample) using numpy operations\n",
    "- Compute the average negative log likelihood of the test set.\n",
    "- Compare this value to the training loss reported by keras: is the model overfitting or underfitting?\n",
    "\n",
    "Note: you might need to retrain the model with a larger number of epochs (e.g. 50) to ensure that it has fully converged."
   ]
  },
  {
   "cell_type": "code",
   "execution_count": 102,
   "metadata": {},
   "outputs": [
    {
     "name": "stdout",
     "output_type": "stream",
     "text": [
      "Predicted probability distribution for sample #42:\n",
      "0: 0.00000\n",
      "1: 0.00000\n",
      "2: 0.00000\n",
      "3: 0.00000\n",
      "4: 0.00000\n",
      "5: 0.00000\n",
      "6: 0.00000\n",
      "7: 0.00000\n",
      "8: 1.00000\n",
      "9: 0.00000\n",
      "\n",
      "Likelihood of true class for sample #42:\n",
      "0.99999666\n",
      "\n",
      "Average negative loglikelihood of the test set:\n",
      "0.0791550256489166\n"
     ]
    },
    {
     "data": {
      "image/png": "[encoded data removed]",
      "text/plain": [
       "<matplotlib.figure.Figure at 0x12f961828>"
      ]
     },
     "metadata": {},
     "output_type": "display_data"
    }
   ],
   "source": [
    "sample_idx = 42\n",
    "plt.imshow(scaler.inverse_transform(X_test[sample_idx]).reshape(8, 8),\n",
    "           cmap=plt.cm.gray_r, interpolation='nearest')\n",
    "plt.title(\"true label: %d\" % y_test[sample_idx])\n",
    "\n",
    "# Compute all probabilities for all samples in the test set at\n",
    "# once:\n",
    "probabilities = model.predict_proba(X_test, verbose=0)\n",
    "\n",
    "print(\"Predicted probability distribution for sample #42:\")\n",
    "for class_idx, prob in enumerate(probabilities[sample_idx]):\n",
    "    print(\"%d: %0.5f\" % (class_idx, prob))\n",
    "print()\n",
    "    \n",
    "print(\"Likelihood of true class for sample #42:\")\n",
    "print(probabilities[sample_idx, y_test[sample_idx]])\n",
    "print()\n",
    "\n",
    "print(\"Average negative loglikelihood of the test set:\")\n",
    "Y_test = to_categorical(y_test)\n",
    "loglikelihoods = np.sum(np.log(probabilities) * Y_test, axis=1)\n",
    "print(-np.mean(loglikelihoods))\n"
   ]
  },
  {
   "cell_type": "markdown",
   "metadata": {},
   "source": [
    "## d) Home assignment: impact of initialization\n",
    "\n",
    "Let us now study the impact of a bad initialization when training\n",
    "a deep feed forward network.\n",
    "\n",
    "By default Keras dense layers use the \"Glorot Uniform\" initialization\n",
    "strategy to initialize the weight matrices:\n",
    "\n",
    "- each weight coefficient is randomly sampled from [-scale, scale]\n",
    "- scale is proportional to $\\frac{1}{\\sqrt{n_{in} + n_{out}}}$\n",
    "\n",
    "This strategy is known to work well to initialize deep neural networks\n",
    "with \"tanh\" or \"relu\" activation functions and then trained with\n",
    "standard SGD.\n",
    "\n",
    "To assess the impact of initialization let us plug an alternative init\n",
    "scheme into a 2 hidden layers networks with \"tanh\" activations.\n",
    "For the sake of the example let's use normal distributed weights\n",
    "with a manually adjustable scale (standard deviation) and see the\n",
    "impact the scale value:"
   ]
  },
  {
   "cell_type": "code",
   "execution_count": null,
   "metadata": {},
   "outputs": [],
   "source": [
    "from keras import initializers\n",
    "\n",
    "normal_init = initializers.RandomNormal(stddev=0.01)\n",
    "\n",
    "model = Sequential()\n",
    "model.add(Dense(H, input_dim=N, kernel_initializer=normal_init))\n",
    "model.add(Activation(\"tanh\"))\n",
    "model.add(Dense(K, kernel_initializer=normal_init))\n",
    "model.add(Activation(\"tanh\"))\n",
    "model.add(Dense(K, kernel_initializer=normal_init))\n",
    "model.add(Activation(\"softmax\"))\n",
    "\n",
    "model.compile(optimizer=optimizers.SGD(lr=0.1),\n",
    "              loss='categorical_crossentropy')\n",
    "\n",
    "history = model.fit(X_train, Y_train,\n",
    "                    epochs=10, batch_size=32)"
   ]
  },
  {
   "cell_type": "markdown",
   "metadata": {},
   "source": [
    "#### Questions:\n",
    "\n",
    "- Try the following initialization schemes and see whether\n",
    "  the SGD algorithm can successfully train the network or\n",
    "  not:\n",
    "  \n",
    "  - a very small e.g. `scale=1e-3`\n",
    "  - a larger scale e.g. `scale=1` or `10`\n",
    "  - initialize all weights to 0 (constant initialization)\n",
    "  \n",
    "- What do you observe? Can you find an explanation for those\n",
    "  outcomes?\n",
    "\n",
    "- Are better solvers such as SGD with momentum or Adam able\n",
    "  to deal better with such bad initializations?"
   ]
  },
  {
   "cell_type": "code",
   "execution_count": 4,
   "metadata": {},
   "outputs": [],
   "source": [
    "large_scale_init = initializers.RandomNormal(stddev=1)\n",
    "small_scale_init = initializers.RandomNormal(stddev=1e-3)\n",
    "\n",
    "\n",
    "optimizer_list = [\n",
    "    ('SGD', optimizers.SGD(lr=0.1)),\n",
    "    ('Adam', optimizers.Adam()),\n",
    "#     ('SGD + Nesterov momentum', optimizers.SGD(\n",
    "#             lr=0.1, momentum=0.9,nesterov=True)),\n",
    "]\n",
    "\n",
    "init_list = [\n",
    "    ('glorot uniform init', 'glorot_uniform', '-'),\n",
    "    ('small init scale', small_scale_init, '-'),\n",
    "    ('large init scale', large_scale_init, '-'),\n",
    "    ('zero init', 'zero', '--'),\n",
    "]\n",
    "\n",
    "\n",
    "for optimizer_name, optimizer in optimizer_list:\n",
    "    plt.figure(figsize=(12, 6))\n",
    "    for init_name, init, linestyle in init_list:\n",
    "        model = Sequential()\n",
    "        model.add(Dense(H, input_dim=N, kernel_initializer=init))\n",
    "        model.add(Activation(\"tanh\"))\n",
    "        model.add(Dense(K, kernel_initializer=init))\n",
    "        model.add(Activation(\"tanh\"))\n",
    "        model.add(Dense(K, kernel_initializer=init))\n",
    "        model.add(Activation(\"softmax\"))\n",
    "\n",
    "        model.compile(optimizer=optimizer,\n",
    "                      loss='categorical_crossentropy')\n",
    "\n",
    "        history = model.fit(X_train, Y_train,\n",
    "                            epochs=10, batch_size=32, verbose=0)\n",
    "        plt.plot(history.history['loss'], linestyle=linestyle,\n",
    "                 label=init_name)\n",
    "\n",
    "    plt.xlabel('# epochs')\n",
    "    plt.ylabel('Training loss')\n",
    "    plt.ylim(0, 6)\n",
    "    plt.legend(loc='best');\n",
    "    plt.title('Impact of initialization on convergence with %s'\n",
    "              % optimizer_name)"
   ]
  },
  {
   "cell_type": "code",
   "execution_count": null,
   "metadata": {
    "collapsed": true
   },
   "outputs": [],
   "source": []
  }
 ],
 "metadata": {
  "kernelspec": {
   "display_name": "Python (3.6)",
   "language": "python",
   "name": "ml"
  },
  "language_info": {
   "codemirror_mode": {
    "name": "ipython",
    "version": 3
   },
   "file_extension": ".py",
   "mimetype": "text/x-python",
   "name": "python",
   "nbconvert_exporter": "python",
   "pygments_lexer": "ipython3",
   "version": "3.6.4"
  }
 },
 "nbformat": 4,
 "nbformat_minor": 2
}
